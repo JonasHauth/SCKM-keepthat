{
 "cells": [
  {
   "cell_type": "code",
   "execution_count": 1,
   "metadata": {},
   "outputs": [],
   "source": [
    "import pandas as pd\n",
    "\n",
    "import spacy\n",
    "from spacy import displacy\n",
    "\n",
    "from spacy.matcher import Matcher\n",
    "from spacy.matcher import DependencyMatcher\n",
    "from spacy.tokens import Token\n",
    "\n",
    "Token.set_extension(\"ignore\", default=False, force=True)\n",
    "\n",
    "nlp = spacy.load(\"de_dep_news_trf\")"
   ]
  },
  {
   "cell_type": "code",
   "execution_count": 2,
   "metadata": {},
   "outputs": [
    {
     "data": {
      "text/plain": [
       "'Hallo Marcel, hier noch eine kurze Info für dich: Du kannst maximal 3 Urlaubstage mit ins nächste Jahr nehmen. Alle anderen Urlaubstage sollten bis Ende des Jahres verplant sein.'"
      ]
     },
     "execution_count": 2,
     "metadata": {},
     "output_type": "execute_result"
    }
   ],
   "source": [
    "sentences = pd.read_csv('data/demo_data_real.csv')\n",
    "sentence = sentences.iloc[1]['Original Text']\n",
    "sentence"
   ]
  },
  {
   "cell_type": "markdown",
   "metadata": {},
   "source": [
    "# General Preprocessing"
   ]
  },
  {
   "cell_type": "code",
   "execution_count": 3,
   "metadata": {},
   "outputs": [],
   "source": [
    "sentences.replace(to_replace=[r\"\\\\t|\\\\n|\\\\r\", \"\\t|\\n|\\r\"], value=[\" \",\" \"], regex=True, inplace=True)"
   ]
  },
  {
   "cell_type": "code",
   "execution_count": 4,
   "metadata": {},
   "outputs": [
    {
     "data": {
      "text/html": [
       "<div>\n",
       "<style scoped>\n",
       "    .dataframe tbody tr th:only-of-type {\n",
       "        vertical-align: middle;\n",
       "    }\n",
       "\n",
       "    .dataframe tbody tr th {\n",
       "        vertical-align: top;\n",
       "    }\n",
       "\n",
       "    .dataframe thead th {\n",
       "        text-align: right;\n",
       "    }\n",
       "</style>\n",
       "<table border=\"1\" class=\"dataframe\">\n",
       "  <thead>\n",
       "    <tr style=\"text-align: right;\">\n",
       "      <th></th>\n",
       "      <th>ID</th>\n",
       "      <th>Bereinigter Text</th>\n",
       "      <th>Tags/Kategorie</th>\n",
       "      <th>Eingereicht von</th>\n",
       "      <th>Original Text</th>\n",
       "    </tr>\n",
       "  </thead>\n",
       "  <tbody>\n",
       "    <tr>\n",
       "      <th>0</th>\n",
       "      <td>1</td>\n",
       "      <td>Die Tabelle “Subscriptions” im Schema “CRM” en...</td>\n",
       "      <td>DWH, SQL</td>\n",
       "      <td>NaN</td>\n",
       "      <td>Hey, du kannst die Tabelle “Subscriptions” im ...</td>\n",
       "    </tr>\n",
       "    <tr>\n",
       "      <th>1</th>\n",
       "      <td>2</td>\n",
       "      <td>Maximal 3 Urlaubstage mit ins nächste Jahr neh...</td>\n",
       "      <td>HR</td>\n",
       "      <td>NaN</td>\n",
       "      <td>Hallo Marcel, hier noch eine kurze Info für di...</td>\n",
       "    </tr>\n",
       "    <tr>\n",
       "      <th>2</th>\n",
       "      <td>3</td>\n",
       "      <td>CR bedeutet Conversion Rate.</td>\n",
       "      <td>Allgemeine Definitionen, CRM</td>\n",
       "      <td>NaN</td>\n",
       "      <td>Hi Marcel, CR bedeutet in unserem Kontext Conv...</td>\n",
       "    </tr>\n",
       "    <tr>\n",
       "      <th>3</th>\n",
       "      <td>4</td>\n",
       "      <td>AE bedeutet Account Executive.</td>\n",
       "      <td>Allgemeine Definitionen, CRM</td>\n",
       "      <td>NaN</td>\n",
       "      <td>AE = Account Executive, also Sales Mitarbeiter...</td>\n",
       "    </tr>\n",
       "    <tr>\n",
       "      <th>4</th>\n",
       "      <td>5</td>\n",
       "      <td>Mit “Abrechnungsdatum” ist das Attribut “Purch...</td>\n",
       "      <td>Allgemeine Definitionen, DWH</td>\n",
       "      <td>NaN</td>\n",
       "      <td>Hi Marcel, ja genau mit “Abrechnungsdatum” ist...</td>\n",
       "    </tr>\n",
       "    <tr>\n",
       "      <th>5</th>\n",
       "      <td>6</td>\n",
       "      <td>Die gebuchten Addons sind in der Tabelle “Subs...</td>\n",
       "      <td>DWH, SQL</td>\n",
       "      <td>NaN</td>\n",
       "      <td>Hey Marcel, die gebuchten Addons findest du in...</td>\n",
       "    </tr>\n",
       "    <tr>\n",
       "      <th>6</th>\n",
       "      <td>7</td>\n",
       "      <td>\"Deactivated Date” steht für den Zeitpunkt, wa...</td>\n",
       "      <td>Allgemeine Definitionen, CRM</td>\n",
       "      <td>NaN</td>\n",
       "      <td>Hi, das Attribut “Deactivated Date” steht für ...</td>\n",
       "    </tr>\n",
       "    <tr>\n",
       "      <th>7</th>\n",
       "      <td>8</td>\n",
       "      <td>Die wichtigsten Tabellen sind “Owners”, “Subsc...</td>\n",
       "      <td>CRM, DWH</td>\n",
       "      <td>NaN</td>\n",
       "      <td>Hey Marcel, erstmal noch eine kurze Info für d...</td>\n",
       "    </tr>\n",
       "    <tr>\n",
       "      <th>8</th>\n",
       "      <td>9</td>\n",
       "      <td>Mit dem Datenintegrationstool Stitch können wi...</td>\n",
       "      <td>DWH</td>\n",
       "      <td>NaN</td>\n",
       "      <td>Hey Marcel, ich weiß nicht, ob du das Tool Sti...</td>\n",
       "    </tr>\n",
       "    <tr>\n",
       "      <th>9</th>\n",
       "      <td>10</td>\n",
       "      <td>Als Werkstudent ist der Abrechnungszeitraum fü...</td>\n",
       "      <td>HR</td>\n",
       "      <td>NaN</td>\n",
       "      <td>Hi Marcel, eine kurze Info noch für dich: Als ...</td>\n",
       "    </tr>\n",
       "    <tr>\n",
       "      <th>10</th>\n",
       "      <td>11</td>\n",
       "      <td>Hier ist: http://sew-intranet/ITDoc/cgi-bin/sa...</td>\n",
       "      <td>ERP, SAP</td>\n",
       "      <td>NaN</td>\n",
       "      <td>Hallo,  Ich habe hier: http://sew-intranet/ITD...</td>\n",
       "    </tr>\n",
       "    <tr>\n",
       "      <th>11</th>\n",
       "      <td>12</td>\n",
       "      <td>Problem mit MLFlow Zertifikaten: Wir können di...</td>\n",
       "      <td>MLFlow, Zertifikate</td>\n",
       "      <td>NaN</td>\n",
       "      <td>Hallo zusammen, ich habe das Problem mit MLFlo...</td>\n",
       "    </tr>\n",
       "    <tr>\n",
       "      <th>12</th>\n",
       "      <td>13</td>\n",
       "      <td>Dafür liegt in jede Namespace ein Secret; sew-...</td>\n",
       "      <td>Kubernetes</td>\n",
       "      <td>NaN</td>\n",
       "      <td>Hi Jonas, Dafür liegt in jede Namespace ein Se...</td>\n",
       "    </tr>\n",
       "    <tr>\n",
       "      <th>13</th>\n",
       "      <td>14</td>\n",
       "      <td>Wir sind nun im d-bru-04 und p-bru-01 auf Graf...</td>\n",
       "      <td>Grafana, Kubernetes</td>\n",
       "      <td>NaN</td>\n",
       "      <td>Hallo zusammen, wir sind nun im d-bru-04 und p...</td>\n",
       "    </tr>\n",
       "    <tr>\n",
       "      <th>14</th>\n",
       "      <td>15</td>\n",
       "      <td>Anbidnung DeepL-Api. Probleme mit “self signed...</td>\n",
       "      <td>API, DeepL</td>\n",
       "      <td>NaN</td>\n",
       "      <td>Jonas Hi Nico, hast du die DeepL-Api für die Ü...</td>\n",
       "    </tr>\n",
       "    <tr>\n",
       "      <th>15</th>\n",
       "      <td>16</td>\n",
       "      <td>In der Tabelle /BIC/APMMB030700 haben wir die ...</td>\n",
       "      <td>DWH, ERP</td>\n",
       "      <td>NaN</td>\n",
       "      <td>Hi, ja das haben wir MARA und MARC In der Tabe...</td>\n",
       "    </tr>\n",
       "    <tr>\n",
       "      <th>16</th>\n",
       "      <td>17</td>\n",
       "      <td>nicht-Tans = Materialien mit Materialnummer (b...</td>\n",
       "      <td>DWH, ERP</td>\n",
       "      <td>NaN</td>\n",
       "      <td>nicht-Tans = Materialien mit Materialnummer (b...</td>\n",
       "    </tr>\n",
       "    <tr>\n",
       "      <th>17</th>\n",
       "      <td>18</td>\n",
       "      <td>Über die SE16 &gt; /BIC/PC01MATNR und dann über d...</td>\n",
       "      <td>DWH, ERP</td>\n",
       "      <td>NaN</td>\n",
       "      <td>Hi Tatjana, ich bin über die SE16 &gt; /BIC/PC01M...</td>\n",
       "    </tr>\n",
       "    <tr>\n",
       "      <th>18</th>\n",
       "      <td>19</td>\n",
       "      <td>Hier müsste man die Datenflüsse und das eventu...</td>\n",
       "      <td>DWH, ERP</td>\n",
       "      <td>NaN</td>\n",
       "      <td>Hi Jonas, es ist über Umwege möglich. Hier müs...</td>\n",
       "    </tr>\n",
       "    <tr>\n",
       "      <th>19</th>\n",
       "      <td>20</td>\n",
       "      <td>Benennungsschlüssel von den Materialien separa...</td>\n",
       "      <td>DWH, ERP</td>\n",
       "      <td>NaN</td>\n",
       "      <td>Stefan Haben wir den Benennungsschlüssel von d...</td>\n",
       "    </tr>\n",
       "    <tr>\n",
       "      <th>20</th>\n",
       "      <td>21</td>\n",
       "      <td>Kostenstelle des Einkaufs für die Projekte ist...</td>\n",
       "      <td>HR</td>\n",
       "      <td>NaN</td>\n",
       "      <td>Hi Jonas, klar, die Kostenstelle des Einkaufs ...</td>\n",
       "    </tr>\n",
       "    <tr>\n",
       "      <th>21</th>\n",
       "      <td>22</td>\n",
       "      <td>Man könnte (im Rahmen des Feature Engineerings...</td>\n",
       "      <td>Machine Learning, Python</td>\n",
       "      <td>NaN</td>\n",
       "      <td>Hi Jonas, man könnte (im Rahmen des Feature En...</td>\n",
       "    </tr>\n",
       "    <tr>\n",
       "      <th>22</th>\n",
       "      <td>23</td>\n",
       "      <td>ITFB Kostenstelle 18240000</td>\n",
       "      <td>HR</td>\n",
       "      <td>NaN</td>\n",
       "      <td>Jonas Hi Marcus, kannst du mir sagen auf welch...</td>\n",
       "    </tr>\n",
       "    <tr>\n",
       "      <th>23</th>\n",
       "      <td>24</td>\n",
       "      <td>Möglichkeit mit den wenig frequentierten Klass...</td>\n",
       "      <td>Machine Learning, Python</td>\n",
       "      <td>NaN</td>\n",
       "      <td>Hallo Jonas, eine Möglichkeit mit den wenig fr...</td>\n",
       "    </tr>\n",
       "    <tr>\n",
       "      <th>24</th>\n",
       "      <td>25</td>\n",
       "      <td>URL vom Kubernetes Ranger und Harbor.  sew-har...</td>\n",
       "      <td>Kubernetes</td>\n",
       "      <td>NaN</td>\n",
       "      <td>Jonas Guten Morgen Stefan, kannst du mir die U...</td>\n",
       "    </tr>\n",
       "    <tr>\n",
       "      <th>25</th>\n",
       "      <td>26</td>\n",
       "      <td>Wie kann ich die Berechtigungen / Sap-User bea...</td>\n",
       "      <td>HR, SAP</td>\n",
       "      <td>NaN</td>\n",
       "      <td>Jonas Hallo Milagros, ich habe aktuell nur ein...</td>\n",
       "    </tr>\n",
       "    <tr>\n",
       "      <th>26</th>\n",
       "      <td>27</td>\n",
       "      <td>Azure DevOps Lizenz. Wie war da der Prozess?  ...</td>\n",
       "      <td>HR</td>\n",
       "      <td>NaN</td>\n",
       "      <td>Jonas Hi Niklas, Stefan meinte, dass du für de...</td>\n",
       "    </tr>\n",
       "  </tbody>\n",
       "</table>\n",
       "</div>"
      ],
      "text/plain": [
       "    ID                                   Bereinigter Text  \\\n",
       "0    1  Die Tabelle “Subscriptions” im Schema “CRM” en...   \n",
       "1    2  Maximal 3 Urlaubstage mit ins nächste Jahr neh...   \n",
       "2    3                       CR bedeutet Conversion Rate.   \n",
       "3    4                     AE bedeutet Account Executive.   \n",
       "4    5  Mit “Abrechnungsdatum” ist das Attribut “Purch...   \n",
       "5    6  Die gebuchten Addons sind in der Tabelle “Subs...   \n",
       "6    7  \"Deactivated Date” steht für den Zeitpunkt, wa...   \n",
       "7    8  Die wichtigsten Tabellen sind “Owners”, “Subsc...   \n",
       "8    9  Mit dem Datenintegrationstool Stitch können wi...   \n",
       "9   10  Als Werkstudent ist der Abrechnungszeitraum fü...   \n",
       "10  11  Hier ist: http://sew-intranet/ITDoc/cgi-bin/sa...   \n",
       "11  12  Problem mit MLFlow Zertifikaten: Wir können di...   \n",
       "12  13  Dafür liegt in jede Namespace ein Secret; sew-...   \n",
       "13  14  Wir sind nun im d-bru-04 und p-bru-01 auf Graf...   \n",
       "14  15  Anbidnung DeepL-Api. Probleme mit “self signed...   \n",
       "15  16  In der Tabelle /BIC/APMMB030700 haben wir die ...   \n",
       "16  17  nicht-Tans = Materialien mit Materialnummer (b...   \n",
       "17  18  Über die SE16 > /BIC/PC01MATNR und dann über d...   \n",
       "18  19  Hier müsste man die Datenflüsse und das eventu...   \n",
       "19  20  Benennungsschlüssel von den Materialien separa...   \n",
       "20  21  Kostenstelle des Einkaufs für die Projekte ist...   \n",
       "21  22  Man könnte (im Rahmen des Feature Engineerings...   \n",
       "22  23                         ITFB Kostenstelle 18240000   \n",
       "23  24  Möglichkeit mit den wenig frequentierten Klass...   \n",
       "24  25  URL vom Kubernetes Ranger und Harbor.  sew-har...   \n",
       "25  26  Wie kann ich die Berechtigungen / Sap-User bea...   \n",
       "26  27  Azure DevOps Lizenz. Wie war da der Prozess?  ...   \n",
       "\n",
       "                  Tags/Kategorie  Eingereicht von  \\\n",
       "0                       DWH, SQL              NaN   \n",
       "1                             HR              NaN   \n",
       "2   Allgemeine Definitionen, CRM              NaN   \n",
       "3   Allgemeine Definitionen, CRM              NaN   \n",
       "4   Allgemeine Definitionen, DWH              NaN   \n",
       "5                       DWH, SQL              NaN   \n",
       "6   Allgemeine Definitionen, CRM              NaN   \n",
       "7                       CRM, DWH              NaN   \n",
       "8                            DWH              NaN   \n",
       "9                             HR              NaN   \n",
       "10                      ERP, SAP              NaN   \n",
       "11           MLFlow, Zertifikate              NaN   \n",
       "12                    Kubernetes              NaN   \n",
       "13           Grafana, Kubernetes              NaN   \n",
       "14                    API, DeepL              NaN   \n",
       "15                      DWH, ERP              NaN   \n",
       "16                      DWH, ERP              NaN   \n",
       "17                      DWH, ERP              NaN   \n",
       "18                      DWH, ERP              NaN   \n",
       "19                      DWH, ERP              NaN   \n",
       "20                            HR              NaN   \n",
       "21      Machine Learning, Python              NaN   \n",
       "22                            HR              NaN   \n",
       "23      Machine Learning, Python              NaN   \n",
       "24                    Kubernetes              NaN   \n",
       "25                       HR, SAP              NaN   \n",
       "26                            HR              NaN   \n",
       "\n",
       "                                        Original Text  \n",
       "0   Hey, du kannst die Tabelle “Subscriptions” im ...  \n",
       "1   Hallo Marcel, hier noch eine kurze Info für di...  \n",
       "2   Hi Marcel, CR bedeutet in unserem Kontext Conv...  \n",
       "3   AE = Account Executive, also Sales Mitarbeiter...  \n",
       "4   Hi Marcel, ja genau mit “Abrechnungsdatum” ist...  \n",
       "5   Hey Marcel, die gebuchten Addons findest du in...  \n",
       "6   Hi, das Attribut “Deactivated Date” steht für ...  \n",
       "7   Hey Marcel, erstmal noch eine kurze Info für d...  \n",
       "8   Hey Marcel, ich weiß nicht, ob du das Tool Sti...  \n",
       "9   Hi Marcel, eine kurze Info noch für dich: Als ...  \n",
       "10  Hallo,  Ich habe hier: http://sew-intranet/ITD...  \n",
       "11  Hallo zusammen, ich habe das Problem mit MLFlo...  \n",
       "12  Hi Jonas, Dafür liegt in jede Namespace ein Se...  \n",
       "13  Hallo zusammen, wir sind nun im d-bru-04 und p...  \n",
       "14  Jonas Hi Nico, hast du die DeepL-Api für die Ü...  \n",
       "15  Hi, ja das haben wir MARA und MARC In der Tabe...  \n",
       "16  nicht-Tans = Materialien mit Materialnummer (b...  \n",
       "17  Hi Tatjana, ich bin über die SE16 > /BIC/PC01M...  \n",
       "18  Hi Jonas, es ist über Umwege möglich. Hier müs...  \n",
       "19  Stefan Haben wir den Benennungsschlüssel von d...  \n",
       "20  Hi Jonas, klar, die Kostenstelle des Einkaufs ...  \n",
       "21  Hi Jonas, man könnte (im Rahmen des Feature En...  \n",
       "22  Jonas Hi Marcus, kannst du mir sagen auf welch...  \n",
       "23  Hallo Jonas, eine Möglichkeit mit den wenig fr...  \n",
       "24  Jonas Guten Morgen Stefan, kannst du mir die U...  \n",
       "25  Jonas Hallo Milagros, ich habe aktuell nur ein...  \n",
       "26  Jonas Hi Niklas, Stefan meinte, dass du für de...  "
      ]
     },
     "execution_count": 4,
     "metadata": {},
     "output_type": "execute_result"
    }
   ],
   "source": [
    "sentences"
   ]
  },
  {
   "cell_type": "markdown",
   "metadata": {},
   "source": [
    "# Generate Rules"
   ]
  },
  {
   "cell_type": "code",
   "execution_count": 5,
   "metadata": {},
   "outputs": [],
   "source": [
    "doc = nlp(sentence)"
   ]
  },
  {
   "cell_type": "code",
   "execution_count": 6,
   "metadata": {},
   "outputs": [],
   "source": [
    "# displacy.serve(doc, style='dep')"
   ]
  },
  {
   "cell_type": "code",
   "execution_count": 7,
   "metadata": {},
   "outputs": [],
   "source": [
    "def set_ignore(matcher, doc, id, matches):\n",
    "    for _, start, end in matches:\n",
    "        for tok in doc[start:end]:\n",
    "            tok._.ignore = True"
   ]
  },
  {
   "cell_type": "markdown",
   "metadata": {},
   "source": [
    "## Grußformeln (Ende)"
   ]
  },
  {
   "cell_type": "code",
   "execution_count": 8,
   "metadata": {},
   "outputs": [],
   "source": [
    "Grußformelmatcher = Matcher(nlp.vocab)\n",
    "pattern = [\n",
    "    [{\"POS\": \"ADJ\"}, {\"POS\": \"NOUN\"}, {\"POS\": \"PROPN\"}],\n",
    "    [{\"POS\": \"NOUN\"}, {\"POS\": \"PROPN\"}],\n",
    "    ]\n",
    "Grußformelmatcher.add(\"Grußformeln\", pattern, on_match=set_ignore)"
   ]
  },
  {
   "cell_type": "code",
   "execution_count": 9,
   "metadata": {},
   "outputs": [
    {
     "name": "stdout",
     "output_type": "stream",
     "text": [
      "[]\n"
     ]
    }
   ],
   "source": [
    "matches = Grußformelmatcher(doc)\n",
    "\n",
    "print(matches)\n",
    "\n",
    "for match_id, start, end in matches:\n",
    "    string_id = nlp.vocab.strings[match_id]  # Get string representation\n",
    "    span = doc[start:end]  # The matched span\n",
    "    print(match_id, string_id, start, end, span.text)"
   ]
  },
  {
   "cell_type": "markdown",
   "metadata": {},
   "source": [
    "## Begrüßungsformeln"
   ]
  },
  {
   "cell_type": "code",
   "execution_count": 10,
   "metadata": {},
   "outputs": [],
   "source": [
    "Begrüßungsformelmatcher = Matcher(nlp.vocab)\n",
    "\n",
    "pattern = [{\"ORTH\": \"Hallo\"}, {\"POS\": \"PROPN\"}, {\"IS_PUNCT\": True}]\n",
    "pattern = [{\"ORTH\": \"Hallo\"}, {\"POS\": \"ADV\"}, {\"IS_PUNCT\": True}]\n",
    "\n",
    "Begrüßungsformelmatcher.add(\"Begrüßungformeln\", [pattern], on_match=set_ignore) # ,  "
   ]
  },
  {
   "cell_type": "code",
   "execution_count": 11,
   "metadata": {},
   "outputs": [
    {
     "name": "stdout",
     "output_type": "stream",
     "text": [
      "[]\n"
     ]
    }
   ],
   "source": [
    "matches = Begrüßungsformelmatcher(doc)\n",
    "\n",
    "print(matches)\n",
    "\n",
    "for match_id, start, end in matches:\n",
    "    string_id = nlp.vocab.strings[match_id]  # Get string representation\n",
    "    span = doc[start:end]  # The matched span\n",
    "    print(match_id, string_id, start, end, span.text)"
   ]
  },
  {
   "cell_type": "markdown",
   "metadata": {},
   "source": [
    "## Füllwortmatcher"
   ]
  },
  {
   "cell_type": "code",
   "execution_count": 12,
   "metadata": {},
   "outputs": [],
   "source": [
    "Füllwortmatcher = Matcher(nlp.vocab)\n",
    "\n",
    "pattern = [\n",
    "    [{\"lower\": \"erstmal\"}],\n",
    "    [{\"lower\": \"erst\"}, {\"lower\": \"einmal\"}],\n",
    "    [{\"lower\": \"ja\"}, {\"lower\": \"genau\"}],\n",
    "    [{\"lower\": \"exakt\"}],\n",
    "    [{\"lower\": \"jawohl\"}],\n",
    "    ]\n",
    "Füllwortmatcher.add(\"Füllwörter\", pattern, on_match=set_ignore)\n",
    "\n"
   ]
  },
  {
   "cell_type": "code",
   "execution_count": 13,
   "metadata": {},
   "outputs": [
    {
     "name": "stdout",
     "output_type": "stream",
     "text": [
      "[]\n"
     ]
    }
   ],
   "source": [
    "matches = Füllwortmatcher(doc)\n",
    "\n",
    "print(matches)\n",
    "\n",
    "for match_id, start, end in matches:\n",
    "    string_id = nlp.vocab.strings[match_id]  # Get string representation\n",
    "    span = doc[start:end]  # The matched span\n",
    "    print(match_id, string_id, start, end, span.text)"
   ]
  },
  {
   "cell_type": "markdown",
   "metadata": {},
   "source": [
    "## Resultat"
   ]
  },
  {
   "cell_type": "code",
   "execution_count": 14,
   "metadata": {},
   "outputs": [
    {
     "name": "stdout",
     "output_type": "stream",
     "text": [
      "Hallo Marcel, hier noch eine kurze Info für dich: Du kannst maximal 3 Urlaubstage mit ins nächste Jahr nehmen. Alle anderen Urlaubstage sollten bis Ende des Jahres verplant sein.\n"
     ]
    }
   ],
   "source": [
    "toks = [tok.text + tok.whitespace_ for tok in doc if not tok._.ignore]\n",
    "print(\"\".join(toks))"
   ]
  },
  {
   "cell_type": "markdown",
   "metadata": {},
   "source": []
  },
  {
   "cell_type": "markdown",
   "metadata": {},
   "source": [
    "# Multiprocessing"
   ]
  },
  {
   "cell_type": "code",
   "execution_count": 15,
   "metadata": {},
   "outputs": [],
   "source": [
    "# docs = nlp.pipe(sentences['Original Text'], n_process=4)"
   ]
  },
  {
   "cell_type": "markdown",
   "metadata": {},
   "source": [
    "# Categorization"
   ]
  },
  {
   "cell_type": "code",
   "execution_count": 17,
   "metadata": {},
   "outputs": [
    {
     "name": "stdout",
     "output_type": "stream",
     "text": [
      "Total: 27 - Train:  17 - Dev: 6 - Test: 4\n"
     ]
    }
   ],
   "source": [
    "dataset = list(sentences[[\"Original Text\", \"Tags/Kategorie\"]].sample(frac=1).itertuples(index=False, name=None))\n",
    "train_data = dataset[:17]\n",
    "dev_data = dataset[17:23]\n",
    "test_data = dataset[23:27]\n",
    "print(f\"Total: {len(dataset)} - Train:  {len(train_data)} - Dev: {len(dev_data)} - Test: {len(test_data)}\")"
   ]
  },
  {
   "cell_type": "code",
   "execution_count": 18,
   "metadata": {},
   "outputs": [
    {
     "name": "stdout",
     "output_type": "stream",
     "text": [
      "{'Kubernetes', 'CRM', 'MLFlow', 'SQL', 'DWH', 'Zertifikate', 'Machine Learning', 'SAP', 'Allgemeine Definitionen', 'HR', 'DeepL', 'API', 'Python', 'ERP', 'Grafana'}\n"
     ]
    },
    {
     "data": {
      "text/plain": [
       "['Kubernetes',\n",
       " 'CRM',\n",
       " 'MLFlow',\n",
       " 'SQL',\n",
       " 'DWH',\n",
       " 'Zertifikate',\n",
       " 'Machine Learning',\n",
       " 'SAP',\n",
       " 'Allgemeine Definitionen',\n",
       " 'HR',\n",
       " 'DeepL',\n",
       " 'API',\n",
       " 'Python',\n",
       " 'ERP',\n",
       " 'Grafana']"
      ]
     },
     "execution_count": 18,
     "metadata": {},
     "output_type": "execute_result"
    }
   ],
   "source": [
    "labels_test = sentences['Tags/Kategorie'].apply(lambda x : x.split(\",\"))\n",
    "\n",
    "all_labels = []\n",
    "for li in labels_test:\n",
    "    for label in li:\n",
    "        label = label.strip()\n",
    "        all_labels.append(label)\n",
    "\n",
    "all_labels = set(all_labels)\n",
    "print(all_labels)\n",
    "all_labels = list(all_labels)\n",
    "all_labels\n"
   ]
  },
  {
   "cell_type": "code",
   "execution_count": 19,
   "metadata": {},
   "outputs": [
    {
     "name": "stdout",
     "output_type": "stream",
     "text": [
      "Kubernetes\n",
      "CRM\n",
      "MLFlow\n",
      "SQL\n",
      "DWH\n",
      "Zertifikate\n",
      "Machine Learning\n",
      "SAP\n",
      "Allgemeine Definitionen\n",
      "HR\n",
      "DeepL\n",
      "API\n",
      "Python\n",
      "ERP\n",
      "Grafana\n",
      "{'Kubernetes': 0, 'CRM': 0, 'MLFlow': 0, 'SQL': 1, 'DWH': 1, 'Zertifikate': 0, 'Machine Learning': 0, 'SAP': 0, 'Allgemeine Definitionen': 0, 'HR': 0, 'DeepL': 0, 'API': 0, 'Python': 0, 'ERP': 0, 'Grafana': 0}\n"
     ]
    }
   ],
   "source": [
    "doc = nlp(sentence)\n",
    "for l in all_labels:\n",
    "    print(l)\n",
    "    if l in ['DWH', 'SQL']: \n",
    "        doc.cats[l] = 1\n",
    "    else:\n",
    "        doc.cats[l] = 0\n",
    "print(doc.cats)\n",
    "    "
   ]
  },
  {
   "cell_type": "code",
   "execution_count": 20,
   "metadata": {},
   "outputs": [],
   "source": [
    "def convert(data, outfile):\n",
    "    db = spacy.tokens.DocBin()\n",
    "    docs = []\n",
    "    for doc, label in nlp.pipe(data, as_tuples=True):\n",
    "        for l in all_labels:\n",
    "            if l in label: \n",
    "                doc.cats[l] = 1\n",
    "            else:\n",
    "                doc.cats[l] = 0\n",
    "        db.add(doc)\n",
    "\n",
    "        print(doc.cats)\n",
    "    \n",
    "    db.to_disk(outfile)"
   ]
  },
  {
   "cell_type": "code",
   "execution_count": 21,
   "metadata": {},
   "outputs": [
    {
     "name": "stdout",
     "output_type": "stream",
     "text": [
      "{'Kubernetes': 0, 'CRM': 1, 'MLFlow': 0, 'SQL': 0, 'DWH': 1, 'Zertifikate': 0, 'Machine Learning': 0, 'SAP': 0, 'Allgemeine Definitionen': 0, 'HR': 0, 'DeepL': 0, 'API': 0, 'Python': 0, 'ERP': 0, 'Grafana': 0}\n",
      "{'Kubernetes': 0, 'CRM': 0, 'MLFlow': 0, 'SQL': 0, 'DWH': 0, 'Zertifikate': 0, 'Machine Learning': 0, 'SAP': 0, 'Allgemeine Definitionen': 0, 'HR': 0, 'DeepL': 1, 'API': 1, 'Python': 0, 'ERP': 0, 'Grafana': 0}\n",
      "{'Kubernetes': 0, 'CRM': 0, 'MLFlow': 0, 'SQL': 0, 'DWH': 0, 'Zertifikate': 0, 'Machine Learning': 1, 'SAP': 0, 'Allgemeine Definitionen': 0, 'HR': 0, 'DeepL': 0, 'API': 0, 'Python': 1, 'ERP': 0, 'Grafana': 0}\n",
      "{'Kubernetes': 0, 'CRM': 0, 'MLFlow': 0, 'SQL': 0, 'DWH': 1, 'Zertifikate': 0, 'Machine Learning': 0, 'SAP': 0, 'Allgemeine Definitionen': 0, 'HR': 0, 'DeepL': 0, 'API': 0, 'Python': 0, 'ERP': 1, 'Grafana': 0}\n",
      "{'Kubernetes': 0, 'CRM': 0, 'MLFlow': 0, 'SQL': 0, 'DWH': 1, 'Zertifikate': 0, 'Machine Learning': 0, 'SAP': 0, 'Allgemeine Definitionen': 0, 'HR': 0, 'DeepL': 0, 'API': 0, 'Python': 0, 'ERP': 1, 'Grafana': 0}\n",
      "{'Kubernetes': 0, 'CRM': 0, 'MLFlow': 0, 'SQL': 0, 'DWH': 1, 'Zertifikate': 0, 'Machine Learning': 0, 'SAP': 0, 'Allgemeine Definitionen': 0, 'HR': 0, 'DeepL': 0, 'API': 0, 'Python': 0, 'ERP': 1, 'Grafana': 0}\n",
      "{'Kubernetes': 0, 'CRM': 0, 'MLFlow': 0, 'SQL': 0, 'DWH': 1, 'Zertifikate': 0, 'Machine Learning': 0, 'SAP': 0, 'Allgemeine Definitionen': 0, 'HR': 0, 'DeepL': 0, 'API': 0, 'Python': 0, 'ERP': 1, 'Grafana': 0}\n",
      "{'Kubernetes': 0, 'CRM': 1, 'MLFlow': 0, 'SQL': 0, 'DWH': 0, 'Zertifikate': 0, 'Machine Learning': 0, 'SAP': 0, 'Allgemeine Definitionen': 1, 'HR': 0, 'DeepL': 0, 'API': 0, 'Python': 0, 'ERP': 0, 'Grafana': 0}\n",
      "{'Kubernetes': 0, 'CRM': 0, 'MLFlow': 0, 'SQL': 0, 'DWH': 0, 'Zertifikate': 0, 'Machine Learning': 0, 'SAP': 0, 'Allgemeine Definitionen': 0, 'HR': 1, 'DeepL': 0, 'API': 0, 'Python': 0, 'ERP': 0, 'Grafana': 0}\n",
      "{'Kubernetes': 0, 'CRM': 0, 'MLFlow': 0, 'SQL': 0, 'DWH': 1, 'Zertifikate': 0, 'Machine Learning': 0, 'SAP': 0, 'Allgemeine Definitionen': 0, 'HR': 0, 'DeepL': 0, 'API': 0, 'Python': 0, 'ERP': 1, 'Grafana': 0}\n",
      "{'Kubernetes': 0, 'CRM': 1, 'MLFlow': 0, 'SQL': 0, 'DWH': 0, 'Zertifikate': 0, 'Machine Learning': 0, 'SAP': 0, 'Allgemeine Definitionen': 1, 'HR': 0, 'DeepL': 0, 'API': 0, 'Python': 0, 'ERP': 0, 'Grafana': 0}\n",
      "{'Kubernetes': 0, 'CRM': 0, 'MLFlow': 0, 'SQL': 0, 'DWH': 0, 'Zertifikate': 0, 'Machine Learning': 0, 'SAP': 0, 'Allgemeine Definitionen': 0, 'HR': 1, 'DeepL': 0, 'API': 0, 'Python': 0, 'ERP': 0, 'Grafana': 0}\n",
      "{'Kubernetes': 0, 'CRM': 0, 'MLFlow': 0, 'SQL': 1, 'DWH': 1, 'Zertifikate': 0, 'Machine Learning': 0, 'SAP': 0, 'Allgemeine Definitionen': 0, 'HR': 0, 'DeepL': 0, 'API': 0, 'Python': 0, 'ERP': 0, 'Grafana': 0}\n",
      "{'Kubernetes': 0, 'CRM': 0, 'MLFlow': 0, 'SQL': 0, 'DWH': 1, 'Zertifikate': 0, 'Machine Learning': 0, 'SAP': 0, 'Allgemeine Definitionen': 1, 'HR': 0, 'DeepL': 0, 'API': 0, 'Python': 0, 'ERP': 0, 'Grafana': 0}\n",
      "{'Kubernetes': 0, 'CRM': 0, 'MLFlow': 0, 'SQL': 0, 'DWH': 0, 'Zertifikate': 0, 'Machine Learning': 0, 'SAP': 1, 'Allgemeine Definitionen': 0, 'HR': 1, 'DeepL': 0, 'API': 0, 'Python': 0, 'ERP': 0, 'Grafana': 0}\n",
      "{'Kubernetes': 0, 'CRM': 0, 'MLFlow': 0, 'SQL': 0, 'DWH': 0, 'Zertifikate': 0, 'Machine Learning': 0, 'SAP': 1, 'Allgemeine Definitionen': 0, 'HR': 0, 'DeepL': 0, 'API': 0, 'Python': 0, 'ERP': 1, 'Grafana': 0}\n",
      "{'Kubernetes': 1, 'CRM': 0, 'MLFlow': 0, 'SQL': 0, 'DWH': 0, 'Zertifikate': 0, 'Machine Learning': 0, 'SAP': 0, 'Allgemeine Definitionen': 0, 'HR': 0, 'DeepL': 0, 'API': 0, 'Python': 0, 'ERP': 0, 'Grafana': 0}\n",
      "{'Kubernetes': 0, 'CRM': 0, 'MLFlow': 0, 'SQL': 0, 'DWH': 0, 'Zertifikate': 0, 'Machine Learning': 0, 'SAP': 0, 'Allgemeine Definitionen': 0, 'HR': 1, 'DeepL': 0, 'API': 0, 'Python': 0, 'ERP': 0, 'Grafana': 0}\n",
      "{'Kubernetes': 0, 'CRM': 0, 'MLFlow': 1, 'SQL': 0, 'DWH': 0, 'Zertifikate': 1, 'Machine Learning': 0, 'SAP': 0, 'Allgemeine Definitionen': 0, 'HR': 0, 'DeepL': 0, 'API': 0, 'Python': 0, 'ERP': 0, 'Grafana': 0}\n",
      "{'Kubernetes': 1, 'CRM': 0, 'MLFlow': 0, 'SQL': 0, 'DWH': 0, 'Zertifikate': 0, 'Machine Learning': 0, 'SAP': 0, 'Allgemeine Definitionen': 0, 'HR': 0, 'DeepL': 0, 'API': 0, 'Python': 0, 'ERP': 0, 'Grafana': 1}\n",
      "{'Kubernetes': 0, 'CRM': 1, 'MLFlow': 0, 'SQL': 0, 'DWH': 0, 'Zertifikate': 0, 'Machine Learning': 0, 'SAP': 0, 'Allgemeine Definitionen': 1, 'HR': 0, 'DeepL': 0, 'API': 0, 'Python': 0, 'ERP': 0, 'Grafana': 0}\n",
      "{'Kubernetes': 0, 'CRM': 0, 'MLFlow': 0, 'SQL': 0, 'DWH': 0, 'Zertifikate': 0, 'Machine Learning': 1, 'SAP': 0, 'Allgemeine Definitionen': 0, 'HR': 0, 'DeepL': 0, 'API': 0, 'Python': 1, 'ERP': 0, 'Grafana': 0}\n",
      "{'Kubernetes': 0, 'CRM': 0, 'MLFlow': 0, 'SQL': 0, 'DWH': 0, 'Zertifikate': 0, 'Machine Learning': 0, 'SAP': 0, 'Allgemeine Definitionen': 0, 'HR': 1, 'DeepL': 0, 'API': 0, 'Python': 0, 'ERP': 0, 'Grafana': 0}\n",
      "{'Kubernetes': 0, 'CRM': 0, 'MLFlow': 0, 'SQL': 0, 'DWH': 0, 'Zertifikate': 0, 'Machine Learning': 0, 'SAP': 0, 'Allgemeine Definitionen': 0, 'HR': 1, 'DeepL': 0, 'API': 0, 'Python': 0, 'ERP': 0, 'Grafana': 0}\n",
      "{'Kubernetes': 0, 'CRM': 0, 'MLFlow': 0, 'SQL': 0, 'DWH': 1, 'Zertifikate': 0, 'Machine Learning': 0, 'SAP': 0, 'Allgemeine Definitionen': 0, 'HR': 0, 'DeepL': 0, 'API': 0, 'Python': 0, 'ERP': 0, 'Grafana': 0}\n",
      "{'Kubernetes': 0, 'CRM': 0, 'MLFlow': 0, 'SQL': 1, 'DWH': 1, 'Zertifikate': 0, 'Machine Learning': 0, 'SAP': 0, 'Allgemeine Definitionen': 0, 'HR': 0, 'DeepL': 0, 'API': 0, 'Python': 0, 'ERP': 0, 'Grafana': 0}\n",
      "{'Kubernetes': 1, 'CRM': 0, 'MLFlow': 0, 'SQL': 0, 'DWH': 0, 'Zertifikate': 0, 'Machine Learning': 0, 'SAP': 0, 'Allgemeine Definitionen': 0, 'HR': 0, 'DeepL': 0, 'API': 0, 'Python': 0, 'ERP': 0, 'Grafana': 0}\n"
     ]
    }
   ],
   "source": [
    "convert(train_data, \"./train.spacy\")\n",
    "convert(dev_data, \"./dev.spacy\")\n",
    "convert(test_data, \"./test.spacy\")"
   ]
  },
  {
   "cell_type": "code",
   "execution_count": 22,
   "metadata": {},
   "outputs": [
    {
     "name": "stdout",
     "output_type": "stream",
     "text": [
      "ℹ Generated config template specific for your use case\n",
      "- Language: pt\n",
      "- Pipeline: textcat_multilabel\n",
      "- Optimize for: efficiency\n",
      "- Hardware: CPU\n",
      "- Transformer: None\n",
      "✔ Auto-filled config with all values\n",
      "✔ Saved config\n",
      "config.cfg\n",
      "You can now add your data and train your pipeline:\n",
      "python -m spacy train config.cfg --paths.train ./train.spacy --paths.dev ./dev.spacy\n"
     ]
    }
   ],
   "source": [
    "!python -m spacy init config --lang pt --pipeline textcat_multilabel --optimize efficiency --force config.cfg"
   ]
  },
  {
   "cell_type": "code",
   "execution_count": 25,
   "metadata": {},
   "outputs": [],
   "source": [
    "import os\n",
    "os.environ['KMP_DUPLICATE_LIB_OK']='True'"
   ]
  },
  {
   "cell_type": "code",
   "execution_count": 26,
   "metadata": {},
   "outputs": [
    {
     "name": "stderr",
     "output_type": "stream",
     "text": [
      "[2022-11-28 14:38:54,113] [DEBUG] Config overrides from CLI: ['paths.train', 'paths.dev']\n",
      "[2022-11-28 14:38:54,711] [INFO] Set up nlp object from config\n",
      "[2022-11-28 14:38:54,721] [DEBUG] Loading corpus from path: dev.spacy\n",
      "[2022-11-28 14:38:54,722] [DEBUG] Loading corpus from path: train.spacy\n",
      "[2022-11-28 14:38:54,723] [INFO] Pipeline: ['textcat_multilabel']\n",
      "[2022-11-28 14:38:54,728] [INFO] Created vocabulary\n",
      "[2022-11-28 14:38:54,729] [INFO] Finished initializing nlp object\n",
      "[2022-11-28 14:38:54,817] [INFO] Initialized pipeline components: ['textcat_multilabel']\n",
      "[2022-11-28 14:38:54,829] [DEBUG] Loading corpus from path: dev.spacy\n",
      "[2022-11-28 14:38:54,830] [DEBUG] Loading corpus from path: train.spacy\n"
     ]
    },
    {
     "name": "stdout",
     "output_type": "stream",
     "text": [
      "ℹ Saving to output directory: model\n",
      "ℹ Using CPU\n",
      "\u001b[1m\n",
      "=========================== Initializing pipeline ===========================\u001b[0m\n",
      "✔ Initialized pipeline\n",
      "\u001b[1m\n",
      "============================= Training pipeline =============================\u001b[0m\n",
      "ℹ Pipeline: ['textcat_multilabel']\n",
      "ℹ Initial learn rate: 0.001\n",
      "E    #       LOSS TEXTC...  CATS_SCORE  SCORE \n",
      "---  ------  -------------  ----------  ------\n",
      "  0       0           0.25       43.50    0.43\n",
      " 21     200           7.71       39.00    0.39\n",
      " 48     400           0.30       39.00    0.39\n",
      " 82     600           0.10       39.00    0.39\n",
      "124     800           0.05       40.33    0.40\n",
      "175    1000           0.03       40.33    0.40\n",
      "242    1200           0.02       40.33    0.40\n",
      "317    1400           0.01       40.33    0.40\n",
      "417    1600           0.01       40.33    0.40\n",
      "✔ Saved pipeline to output directory\n",
      "model\\model-last\n",
      "^C\n"
     ]
    }
   ],
   "source": [
    "!python -m spacy train config.cfg --paths.train ./train.spacy  --paths.dev ./dev.spacy --output model --verbose"
   ]
  },
  {
   "cell_type": "code",
   "execution_count": 27,
   "metadata": {},
   "outputs": [
    {
     "name": "stdout",
     "output_type": "stream",
     "text": [
      "ℹ Using CPU\n",
      "\u001b[1m\n",
      "================================== Results ==================================\u001b[0m\n",
      "\n",
      "TOK                   100.00\n",
      "TEXTCAT (macro AUC)   16.11 \n",
      "SPEED                 79973 \n",
      "\n",
      "\u001b[1m\n",
      "=========================== Textcat F (per label) ===========================\u001b[0m\n",
      "\n",
      "                             P      R      F\n",
      "Kubernetes                0.00   0.00   0.00\n",
      "CRM                       0.00   0.00   0.00\n",
      "MLFlow                    0.00   0.00   0.00\n",
      "SQL                       0.00   0.00   0.00\n",
      "DWH                       0.00   0.00   0.00\n",
      "Zertifikate               0.00   0.00   0.00\n",
      "Machine Learning          0.00   0.00   0.00\n",
      "SAP                       0.00   0.00   0.00\n",
      "Allgemeine Definitionen   0.00   0.00   0.00\n",
      "HR                        0.00   0.00   0.00\n",
      "DeepL                     0.00   0.00   0.00\n",
      "API                       0.00   0.00   0.00\n",
      "Python                    0.00   0.00   0.00\n",
      "ERP                       0.00   0.00   0.00\n",
      "Grafana                   0.00   0.00   0.00\n",
      "\n",
      "\u001b[1m\n",
      "======================== Textcat ROC AUC (per label) ========================\u001b[0m\n",
      "\n",
      "                          ROC AUC\n",
      "Kubernetes                   0.00\n",
      "CRM                          None\n",
      "MLFlow                       None\n",
      "SQL                          1.00\n",
      "DWH                          0.75\n",
      "Zertifikate                  None\n",
      "Machine Learning             None\n",
      "SAP                          None\n",
      "Allgemeine Definitionen      None\n",
      "HR                           0.67\n",
      "DeepL                        None\n",
      "API                          None\n",
      "Python                       None\n",
      "ERP                          None\n",
      "Grafana                      None\n",
      "\n"
     ]
    },
    {
     "name": "stdout",
     "output_type": "stream",
     "text": [
      "ℹ Saving to output directory: model\n",
      "ℹ Using CPU\n",
      "\u001b[1m\n",
      "=========================== Initializing pipeline ===========================\u001b[0m\n",
      "✔ Initialized pipeline\n",
      "\u001b[1m\n",
      "============================= Training pipeline =============================\u001b[0m\n",
      "ℹ Pipeline: ['textcat_multilabel']\n",
      "ℹ Initial learn rate: 0.001\n",
      "E    #       LOSS TEXTC...  CATS_SCORE  SCORE \n",
      "---  ------  -------------  ----------  ------\n",
      "  0       0           0.25       43.50    0.43\n",
      " 21     200           7.71       39.00    0.39\n",
      " 48     400           0.30       39.00    0.39\n",
      " 82     600           0.10       39.00    0.39\n",
      "124     800           0.05       40.33    0.40\n",
      "175    1000           0.03       40.33    0.40\n",
      "242    1200           0.02       40.33    0.40\n",
      "317    1400           0.01       40.33    0.40\n",
      "417    1600           0.01       40.33    0.40\n",
      "✔ Saved pipeline to output directory\n",
      "model\\model-last\n"
     ]
    },
    {
     "name": "stderr",
     "output_type": "stream",
     "text": [
      "[2022-11-28 14:41:48,357] [DEBUG] Config overrides from CLI: ['paths.train', 'paths.dev']\n",
      "[2022-11-28 14:41:49,266] [INFO] Set up nlp object from config\n",
      "[2022-11-28 14:41:49,281] [DEBUG] Loading corpus from path: dev.spacy\n",
      "[2022-11-28 14:41:49,282] [DEBUG] Loading corpus from path: train.spacy\n",
      "[2022-11-28 14:41:49,283] [INFO] Pipeline: ['textcat_multilabel']\n",
      "[2022-11-28 14:41:49,293] [INFO] Created vocabulary\n",
      "[2022-11-28 14:41:49,296] [INFO] Finished initializing nlp object\n",
      "[2022-11-28 14:41:49,431] [INFO] Initialized pipeline components: ['textcat_multilabel']\n",
      "[2022-11-28 14:41:49,451] [DEBUG] Loading corpus from path: dev.spacy\n",
      "[2022-11-28 14:41:49,453] [DEBUG] Loading corpus from path: train.spacy\n",
      "[2022-11-28 14:41:49,460] [DEBUG] Removed existing output directory: model\\model-best\n",
      "[2022-11-28 14:41:49,466] [DEBUG] Removed existing output directory: model\\model-last\n"
     ]
    }
   ],
   "source": [
    "!python -m spacy evaluate ./model/model-best/ ./test.spacy"
   ]
  },
  {
   "cell_type": "markdown",
   "metadata": {},
   "source": [
    "# Augmentation"
   ]
  },
  {
   "cell_type": "code",
   "execution_count": 33,
   "metadata": {},
   "outputs": [],
   "source": [
    "import nlpaug.augmenter.char as nac\n",
    "import nlpaug.augmenter.word as naw\n",
    "import nlpaug.augmenter.sentence as nas\n",
    "import nlpaug.flow as nafc\n",
    "\n",
    "from nlpaug.util import Action"
   ]
  },
  {
   "cell_type": "code",
   "execution_count": 57,
   "metadata": {},
   "outputs": [],
   "source": [
    "text = 'Hallo Marcel, hier noch eine kurze Info für dich: Du kannst maximal 3 Urlaubstage mit ins nächste Jahr nehmen. Alle anderen Urlaubstage sollten bis Ende des Jahres verplant sein.'"
   ]
  },
  {
   "cell_type": "code",
   "execution_count": 38,
   "metadata": {},
   "outputs": [
    {
     "name": "stdout",
     "output_type": "stream",
     "text": [
      "Original:\n",
      "Hallo Marcel, hier noch eine kurze Info für dich: Du kannst maximal 3 Urlaubstage mit ins nächste Jahr nehmen. Alle anderen Urlaubstage sollten bis Ende des Jahres verplant sein.\n",
      "Augmented Texts:\n",
      "['Halo marcel, hire noch eine kurze Info for dish: Do kannst maximal 2 Urlaubstage meet ins nächste Jahr nehmen. All anderen Urlaubstage sollten big Ende des Jahres verplant sein.', 'Hello Marcel, hire noch eine kurze Info for dish: Do kannst maximum three Urlaubstage meet ins nächste Jahr nehmen. All anderen Urlaubstage sollten big Ende des Jahres verplant sein.', 'Hallow Marcel, hair noch eine kurze Info for dish: Do kannst maximum 2 Urlaubstage my ins nächste Jahr nehmen. All anderen Urlaubstage sollten big Ende des Jahres verplant sein.']\n"
     ]
    }
   ],
   "source": [
    "aug = naw.SpellingAug()\n",
    "augmented_texts = aug.augment(text, n=3)\n",
    "print(\"Original:\")\n",
    "print(text)\n",
    "print(\"Augmented Texts:\")\n",
    "print(augmented_texts)"
   ]
  },
  {
   "cell_type": "code",
   "execution_count": 41,
   "metadata": {},
   "outputs": [],
   "source": [
    "\n",
    "import os\n",
    "os.environ[\"MODEL_DIR\"] = '../model'"
   ]
  },
  {
   "cell_type": "code",
   "execution_count": 42,
   "metadata": {},
   "outputs": [
    {
     "data": {
      "application/vnd.jupyter.widget-view+json": {
       "model_id": "6421b3bd0f6a4310b68c8ab7433095c6",
       "version_major": 2,
       "version_minor": 0
      },
      "text/plain": [
       "Downloading tokenizer_config.json:   0%|          | 0.00/28.0 [00:00<?, ?B/s]"
      ]
     },
     "metadata": {},
     "output_type": "display_data"
    },
    {
     "data": {
      "application/vnd.jupyter.widget-view+json": {
       "model_id": "fe5fcc4ea2214b659d5c378886292689",
       "version_major": 2,
       "version_minor": 0
      },
      "text/plain": [
       "Downloading config.json:   0%|          | 0.00/570 [00:00<?, ?B/s]"
      ]
     },
     "metadata": {},
     "output_type": "display_data"
    },
    {
     "data": {
      "application/vnd.jupyter.widget-view+json": {
       "model_id": "1874085c9a1a4fc1aefd78fc9067ffa3",
       "version_major": 2,
       "version_minor": 0
      },
      "text/plain": [
       "Downloading vocab.txt:   0%|          | 0.00/226k [00:00<?, ?B/s]"
      ]
     },
     "metadata": {},
     "output_type": "display_data"
    },
    {
     "data": {
      "application/vnd.jupyter.widget-view+json": {
       "model_id": "c7cf3e5865a0439e85e88bb2066c8409",
       "version_major": 2,
       "version_minor": 0
      },
      "text/plain": [
       "Downloading tokenizer.json:   0%|          | 0.00/455k [00:00<?, ?B/s]"
      ]
     },
     "metadata": {},
     "output_type": "display_data"
    },
    {
     "data": {
      "application/vnd.jupyter.widget-view+json": {
       "model_id": "946ec4d2bc1a439182db57ca8b329e21",
       "version_major": 2,
       "version_minor": 0
      },
      "text/plain": [
       "Downloading pytorch_model.bin:   0%|          | 0.00/420M [00:00<?, ?B/s]"
      ]
     },
     "metadata": {},
     "output_type": "display_data"
    },
    {
     "name": "stdout",
     "output_type": "stream",
     "text": [
      "Original:\n",
      "Hallo Marcel, hier noch eine kurze Info für dich: Du kannst maximal 3 Urlaubstage mit ins nächste Jahr nehmen. Alle anderen Urlaubstage sollten bis Ende des Jahres verplant sein.\n",
      "Augmented Text:\n",
      "['o hallo of marcel, hier noch eine von kurze info fur dich : ich du kannst maximal zu 3 2 urlaubstage mit ins nachste jahr nehmen. alle er anderen 5 urlaubstage wo sollten bis ende mit des jahres verplant sein.']\n"
     ]
    }
   ],
   "source": [
    "aug = naw.ContextualWordEmbsAug(\n",
    "    model_path='bert-base-uncased', action=\"insert\")\n",
    "augmented_text = aug.augment(text)\n",
    "print(\"Original:\")\n",
    "print(text)\n",
    "print(\"Augmented Text:\")\n",
    "print(augmented_text)"
   ]
  },
  {
   "cell_type": "code",
   "execution_count": 45,
   "metadata": {},
   "outputs": [
    {
     "name": "stdout",
     "output_type": "stream",
     "text": [
      "Original:\n",
      "Hallo Marcel, hier noch eine kurze Info für dich: Du kannst maximal 3 Urlaubstage mit ins nächste Jahr nehmen. Alle anderen Urlaubstage sollten bis Ende des Jahres verplant sein.\n",
      "Augmented Text:\n",
      "['hallo marcel, hier noch das kurze info der dich : du kannst maximal einer urlaubstage mit ins nachste jahr gehen. seine anderen urlaubstage sollten bis ende des jahres verplant sein.']\n"
     ]
    }
   ],
   "source": [
    "# Augmen by BERT\n",
    "aug = naw.ContextualWordEmbsAug(model_path='bert-base-multilingual-uncased', aug_p=0.1)\n",
    "augmented_text = aug.augment(text)\n",
    "print(\"Original:\")\n",
    "print(text)\n",
    "print(\"Augmented Text:\")\n",
    "print(augmented_text)"
   ]
  },
  {
   "cell_type": "code",
   "execution_count": 51,
   "metadata": {},
   "outputs": [
    {
     "name": "stdout",
     "output_type": "stream",
     "text": [
      "Original:\n",
      "Hallo Marcel, hier noch eine kurze Info für dich: Du kannst maximal 3 Urlaubstage mit ins nächste Jahr nehmen. Alle anderen Urlaubstage sollten bis Ende des Jahres verplant sein.\n",
      "Augmented Text:\n",
      "['Hallo Marcel, hier noch eine kurz Info für dich: Du kannst maximale 3 Urlaubstage mit ins nächste Jahr übernehmen. Alle anderen Urlaubstage sollten solange Ende des Jahres verplant sein.']\n"
     ]
    }
   ],
   "source": [
    "aug = naw.SynonymAug(aug_src='ppdb', model_path='ppdb-1.0-l-lexical', aug_p=0.1)\n",
    "augmented_text = aug.augment(text)\n",
    "print(\"Original:\")\n",
    "print(text)\n",
    "print(\"Augmented Text:\")\n",
    "print(augmented_text)"
   ]
  },
  {
   "cell_type": "code",
   "execution_count": 52,
   "metadata": {},
   "outputs": [
    {
     "name": "stdout",
     "output_type": "stream",
     "text": [
      "Original:\n",
      "Hallo Marcel, hier noch eine kurze Info für dich: Du kannst maximal 3 Urlaubstage mit ins nächste Jahr nehmen. Alle anderen Urlaubstage sollten bis Ende des Jahres verplant sein.\n",
      "Augmented Text:\n",
      "['Marcel hallo, noch hier eine kurze Info dich für: Du maximal kannst Urlaubstage 3 mit ins Jahr nächste nehmen. Alle Urlaubstage anderen sollten bis Ende des Jahres sein verplant.']\n"
     ]
    }
   ],
   "source": [
    "aug = naw.RandomWordAug(action=\"swap\")\n",
    "augmented_text = aug.augment(text)\n",
    "print(\"Original:\")\n",
    "print(text)\n",
    "print(\"Augmented Text:\")\n",
    "print(augmented_text)"
   ]
  },
  {
   "cell_type": "code",
   "execution_count": 53,
   "metadata": {},
   "outputs": [
    {
     "name": "stdout",
     "output_type": "stream",
     "text": [
      "Original:\n",
      "Hallo Marcel, hier noch eine kurze Info für dich: Du kannst maximal 3 Urlaubstage mit ins nächste Jahr nehmen. Alle anderen Urlaubstage sollten bis Ende des Jahres verplant sein.\n",
      "Augmented Text:\n",
      "['Hallo Marcel, kurze Info dich: kannst maximal Urlaubstage mit ins Jahr nehmen. anderen Urlaubstage sollten bis Ende verplant sein.']\n"
     ]
    }
   ],
   "source": [
    "aug = naw.RandomWordAug()\n",
    "augmented_text = aug.augment(text)\n",
    "print(\"Original:\")\n",
    "print(text)\n",
    "print(\"Augmented Text:\")\n",
    "print(augmented_text)"
   ]
  },
  {
   "cell_type": "code",
   "execution_count": 54,
   "metadata": {},
   "outputs": [
    {
     "name": "stdout",
     "output_type": "stream",
     "text": [
      "Original:\n",
      "Hallo Marcel, hier noch eine kurze Info für dich: Du kannst maximal 3 Urlaubstage mit ins nächste Jahr nehmen. Alle anderen Urlaubstage sollten bis Ende des Jahres verplant sein.\n",
      "Augmented Text:\n",
      "['Marcel Info für dich: Du kannst maximal 3 Urlaubstage mit ins nächste Jahr nehmen. Alle anderen Urlaubstage sollten bis Ende des Jahres']\n"
     ]
    }
   ],
   "source": [
    "aug = naw.RandomWordAug(action='crop')\n",
    "augmented_text = aug.augment(text)\n",
    "print(\"Original:\")\n",
    "print(text)\n",
    "print(\"Augmented Text:\")\n",
    "print(augmented_text)"
   ]
  },
  {
   "cell_type": "code",
   "execution_count": 59,
   "metadata": {},
   "outputs": [
    {
     "data": {
      "text/plain": [
       "['Hallo Marcel, hier ist eine kurze Info für dich: Du kannst maximal 3 Tage Urlaub ins nächste Jahr nehmen, alle anderen Urlaube solltest du bis Ende des Jahres planen.']"
      ]
     },
     "execution_count": 59,
     "metadata": {},
     "output_type": "execute_result"
    }
   ],
   "source": [
    "import nlpaug.augmenter.word as naw\n",
    "back_translation_aug = naw.BackTranslationAug(\n",
    "    from_model_name='facebook/wmt19-de-en', \n",
    "    to_model_name='facebook/wmt19-en-de'\n",
    ")\n",
    "back_translation_aug.augment(text)"
   ]
  },
  {
   "cell_type": "code",
   "execution_count": null,
   "metadata": {},
   "outputs": [],
   "source": [
    "aug = nas.AbstSummAug(model_path='t5-base', num_beam=3)\n",
    "augmented_text = aug.augment(article)\n",
    "print(\"Original:\")\n",
    "print(article)\n",
    "print(\"Augmented Text:\")\n",
    "print(augmented_text)"
   ]
  },
  {
   "cell_type": "code",
   "execution_count": null,
   "metadata": {},
   "outputs": [],
   "source": []
  }
 ],
 "metadata": {
  "kernelspec": {
   "display_name": "Python 3.9.7 ('base')",
   "language": "python",
   "name": "python3"
  },
  "language_info": {
   "codemirror_mode": {
    "name": "ipython",
    "version": 3
   },
   "file_extension": ".py",
   "mimetype": "text/x-python",
   "name": "python",
   "nbconvert_exporter": "python",
   "pygments_lexer": "ipython3",
   "version": "3.9.13"
  },
  "orig_nbformat": 4,
  "vscode": {
   "interpreter": {
    "hash": "8fb95653776c9bc119c508621720686c5ecc2cd3dc0e93618745aec1af9c6006"
   }
  }
 },
 "nbformat": 4,
 "nbformat_minor": 2
}
